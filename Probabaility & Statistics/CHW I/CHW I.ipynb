{
 "cells": [
  {
   "cell_type": "markdown",
   "id": "485daccb",
   "metadata": {},
   "source": []
  },
  {
   "cell_type": "markdown",
   "id": "6de5eb60",
   "metadata": {},
   "source": [
    "# In the name of God\n",
    "\n",
    "# Engineering Probability\n",
    "# Dr. Karbasi\n",
    "## MohammadParsa Dini\n",
    "## 400101204\n",
    "\n",
    "### HW1 - software assignment:\n"
   ]
  },
  {
   "cell_type": "code",
   "execution_count": 18,
   "id": "44af40e0",
   "metadata": {},
   "outputs": [],
   "source": [
    "import random \n",
    "random.seed(400101204)"
   ]
  },
  {
   "cell_type": "markdown",
   "id": "e67b4325",
   "metadata": {},
   "source": [
    "# $A$:"
   ]
  },
  {
   "cell_type": "code",
   "execution_count": 19,
   "id": "8f5614da",
   "metadata": {},
   "outputs": [
    {
     "name": "stdout",
     "output_type": "stream",
     "text": [
      ">>0::1\n",
      ">>1::66\n",
      ">>2::825\n",
      ">>3::3300\n",
      ">>4::4950\n",
      ">>5::2772\n",
      ">>6::462\n",
      "\n",
      "\n",
      "index: 4\n",
      "maximum value of the product: 4950\n"
     ]
    }
   ],
   "source": [
    "import random\n",
    "import math\n",
    "\n",
    "K = math.comb(17,6)\n",
    "m_a = [0,1,2,3,4,5,6]\n",
    "index_a = 0 \n",
    "Max_a = 0\n",
    "distribution_a = []\n",
    "for i in m_a:\n",
    "    s_a = math.comb(11,i)*math.comb(6,6-i)\n",
    "    distribution_a.append(s_a/K)\n",
    "    if Max_a<s_a:\n",
    "        index_a = i\n",
    "    print(\">>\"+str(i)+\"::\"+ str(s_a))    \n",
    "    Max_a = max(Max_a,s_a)\n",
    "    \n",
    "\n",
    "print(\"\\n\")\n",
    "print(\"index: \" + str(index_a))\n",
    "print(\"maximum value of the product: \" + str(Max_a))\n"
   ]
  },
  {
   "cell_type": "markdown",
   "id": "265240fb",
   "metadata": {},
   "source": [
    "### $A_1$ : \n",
    "clearly there is ${17}\\choose{6}$ ways to choose 6 cards out of 17 cards. In order to find the most possible event we must maximize ${11}\\choose{m}$ * $ {6}\\choose{6-m} $. The following code will find $m$ such that \n",
    "${11}\\choose{m}$ * $ {6}\\choose{6-m} $ is greater than other values . Thus we can define the probabilty of each choosing as $\\forall m \\in \\{0,1,2,3,4,5,6\\} : P_M(m)= P(M=m) = \\frac{\\binom{11}{m} \\binom{6}{6-m}}{{17}\\choose{6}} $ \n",
    "\n"
   ]
  },
  {
   "cell_type": "markdown",
   "id": "3bd06930",
   "metadata": {},
   "source": [
    "As we can easily see that at $ m=4$ the probability $ P(M=m) = \\frac{\\binom{11}{m} \\binom{6}{6-m}}{{17}\\choose{6}}  $  is maximized. $P(M=4) = \\frac{4950}{12376} = 0.399967679379 \\approx 0.4 $.\n",
    "In this case 4 Fascist Cards were chosen besides 2 Liberal cards.\n",
    "\n"
   ]
  },
  {
   "cell_type": "markdown",
   "id": "20e68ccc",
   "metadata": {},
   "source": [
    "## $A_2$:\n",
    "From the table above we can deduce that $ P(M=m) = \\frac{\\binom{11}{m} \\binom{6}{6-m}}{{17}\\choose{6}} $  is minimized at $m=0$\n",
    ". $P(M=0) = \\frac{1}{12376} = 0.0000808015513898 $.\n",
    "In this case 0 Fascist cards were chosen besides 6 liberal cards."
   ]
  },
  {
   "cell_type": "code",
   "execution_count": 20,
   "id": "ebc15a49",
   "metadata": {},
   "outputs": [
    {
     "data": {
      "image/png": "[encoded data removed]",
      "text/plain": [
       "<Figure size 640x480 with 1 Axes>"
      ]
     },
     "metadata": {},
     "output_type": "display_data"
    }
   ],
   "source": [
    "import matplotlib.pyplot as plt\n",
    "\n",
    "plt.stem(m_a, distribution_a)\n",
    "plt.show()\n"
   ]
  },
  {
   "cell_type": "markdown",
   "id": "20698c61",
   "metadata": {},
   "source": [
    "## $A_3$:\n",
    "We will run a program which will genenrate $1000$ random choice of the experiment above. The information will be stored into a binary list which will represent the choice and another list storing the number of ocurrance. for example, $\"001101\"$ indicates that $3$ Liberal cards were chosen besides $3$ Fascist cards in the order of >>Liberal>>Liberal>>Fascist>>Fascist>>Liberal>>Fascist.\n"
   ]
  },
  {
   "cell_type": "code",
   "execution_count": 21,
   "id": "33e6cfc0",
   "metadata": {},
   "outputs": [],
   "source": [
    "import random\n",
    "import pandas as pd\n",
    "import math\n",
    "\n",
    "random.seed(400101204)\n",
    "\n",
    "def remove_duplicates(mlist):\n",
    "    a = []\n",
    "    for i in counter_:\n",
    "        if i not in a:\n",
    "            a.append(i)\n",
    "        else :\n",
    "            pass\n",
    "    return a\n",
    "\n",
    "\n",
    "def binary_to_int_convertor(str):\n",
    "    return int(str, 2)\n",
    "\n",
    "def int_to_binary_convertor(integer):\n",
    "    s = bin(integer)\n",
    "    return s[2:]\n",
    "    \n",
    "def sortString(str) :\n",
    "    return ''.join(sorted(str))\n",
    "\n",
    "def sort_string_array(STR):\n",
    "    res = []\n",
    "    for item in STR:\n",
    "        res.append(sortString(item))\n",
    "    return res\n",
    "\n",
    "def ones_zeros_in_array(mlist):\n",
    "    ones = []\n",
    "    zeros = []\n",
    "    for item in mlist:\n",
    "        s = item.count(\"1\")\n",
    "        ones.append(s)\n",
    "        zeros.append(6-s)\n",
    "    return [ones,zeros]\n",
    "    \n",
    "\n",
    "list_a = [0,0,0,0,0,0,1,1,1,1,1,1,1,1,1,1,1]\n",
    "experiment_a = []\n",
    "_to_int_a = []\n",
    "temp = ''\n",
    "for i in range(1000):\n",
    "    temp = ''\n",
    "    for j in range(6):\n",
    "        temp = temp + str(random.choice(list_a))\n",
    "    experiment_a.append(temp)\n",
    "    _to_int_a.append(binary_to_int_convertor(temp))\n",
    "\n",
    "experiment_a = sorted(experiment_a)\n",
    "sorted_data_a = sorted(_to_int_a)\n",
    "n = len(experiment_a)\n",
    "\n",
    "\n",
    "\n",
    "test_a = sort_string_array(experiment_a)\n",
    "_list_a = []\n",
    "#_list_a.append(test_a[0])\n",
    "\n",
    "for i in range(n-1):\n",
    "    if test_a[i]!=test_a[i+1]:\n",
    "        _list_a.append(test_a[i+1])\n",
    "\n",
    "counter_a = []\n",
    "for item in _list_a:\n",
    "    counter_a.append(test_a.count(item))\n",
    "\n",
    "__counter__a = [*set(counter_a)]\n",
    "__list__a = [*set(_list_a)]\n",
    "\n",
    "\n",
    "\n",
    "\n",
    "__list__a.append(\"000000\")\n",
    "ones_a, zeros_a  = ones_zeros_in_array(__list__a)\n",
    "__counter__a.append(1)\n",
    "data_frame_a = pd.DataFrame(__counter__a ,index= __list__a, columns=['number of ocurrance'])\n",
    "\n",
    "data_frame_a['Fascist Cards'] = ones_a\n",
    "data_frame_a['Liberal Cards'] = zeros_a\n",
    "\n"
   ]
  },
  {
   "cell_type": "code",
   "execution_count": 22,
   "id": "b4097680",
   "metadata": {},
   "outputs": [
    {
     "data": {
      "text/html": [
       "<div>\n",
       "<style scoped>\n",
       "    .dataframe tbody tr th:only-of-type {\n",
       "        vertical-align: middle;\n",
       "    }\n",
       "\n",
       "    .dataframe tbody tr th {\n",
       "        vertical-align: top;\n",
       "    }\n",
       "\n",
       "    .dataframe thead th {\n",
       "        text-align: right;\n",
       "    }\n",
       "</style>\n",
       "<table border=\"1\" class=\"dataframe\">\n",
       "  <thead>\n",
       "    <tr style=\"text-align: right;\">\n",
       "      <th></th>\n",
       "      <th>number of ocurrance</th>\n",
       "      <th>Fascist Cards</th>\n",
       "      <th>Liberal Cards</th>\n",
       "    </tr>\n",
       "  </thead>\n",
       "  <tbody>\n",
       "    <tr>\n",
       "      <th>011111</th>\n",
       "      <td>291</td>\n",
       "      <td>5</td>\n",
       "      <td>1</td>\n",
       "    </tr>\n",
       "    <tr>\n",
       "      <th>000011</th>\n",
       "      <td>101</td>\n",
       "      <td>2</td>\n",
       "      <td>4</td>\n",
       "    </tr>\n",
       "    <tr>\n",
       "      <th>000111</th>\n",
       "      <td>244</td>\n",
       "      <td>3</td>\n",
       "      <td>3</td>\n",
       "    </tr>\n",
       "    <tr>\n",
       "      <th>001111</th>\n",
       "      <td>85</td>\n",
       "      <td>4</td>\n",
       "      <td>2</td>\n",
       "    </tr>\n",
       "    <tr>\n",
       "      <th>000001</th>\n",
       "      <td>25</td>\n",
       "      <td>1</td>\n",
       "      <td>5</td>\n",
       "    </tr>\n",
       "    <tr>\n",
       "      <th>111111</th>\n",
       "      <td>253</td>\n",
       "      <td>6</td>\n",
       "      <td>0</td>\n",
       "    </tr>\n",
       "    <tr>\n",
       "      <th>000000</th>\n",
       "      <td>1</td>\n",
       "      <td>0</td>\n",
       "      <td>6</td>\n",
       "    </tr>\n",
       "  </tbody>\n",
       "</table>\n",
       "</div>"
      ],
      "text/plain": [
       "        number of ocurrance  Fascist Cards  Liberal Cards\n",
       "011111                  291              5              1\n",
       "000011                  101              2              4\n",
       "000111                  244              3              3\n",
       "001111                   85              4              2\n",
       "000001                   25              1              5\n",
       "111111                  253              6              0\n",
       "000000                    1              0              6"
      ]
     },
     "execution_count": 22,
     "metadata": {},
     "output_type": "execute_result"
    }
   ],
   "source": [
    "data_frame_a"
   ]
  },
  {
   "cell_type": "code",
   "execution_count": 23,
   "id": "86410c23",
   "metadata": {},
   "outputs": [
    {
     "data": {
      "text/plain": [
       "1000"
      ]
     },
     "execution_count": 23,
     "metadata": {},
     "output_type": "execute_result"
    }
   ],
   "source": [
    "sum(data_frame_a['number of ocurrance'])"
   ]
  },
  {
   "cell_type": "markdown",
   "id": "1f4e2c22",
   "metadata": {},
   "source": [
    "# $B$:"
   ]
  },
  {
   "cell_type": "code",
   "execution_count": 24,
   "id": "ac980061",
   "metadata": {},
   "outputs": [
    {
     "name": "stdout",
     "output_type": "stream",
     "text": [
      ">>0::330\n",
      ">>1::660\n",
      ">>2::330\n",
      ">>3::44\n",
      ">>4::1\n",
      "\n",
      "\n",
      "index: 1\n",
      "maximum value of the product: 660\n"
     ]
    }
   ],
   "source": [
    "import math\n",
    "\n",
    "K = math.comb(15,4)\n",
    "m_b = [0,1,2,3,4]\n",
    "index_b = 0 \n",
    "Max_b = 0\n",
    "distribution_b = []\n",
    "for i in m_b:\n",
    "    s_b = math.comb(4,i)*math.comb(11,4-i)\n",
    "    distribution_b.append(s_b/K)\n",
    "    if Max_b<s_b:\n",
    "        index_b = i\n",
    "    print(\">>\"+str(i)+\"::\"+ str(s_b))    \n",
    "    Max_b = max(Max_b,s_b)\n",
    "    \n",
    "print(\"\\n\")\n",
    "print(\"index: \" + str(index_b))\n",
    "print(\"maximum value of the product: \" + str(Max_b))"
   ]
  },
  {
   "cell_type": "markdown",
   "id": "53150a09",
   "metadata": {},
   "source": [
    "## $B_1$ :\n"
   ]
  },
  {
   "cell_type": "markdown",
   "id": "3fd3e496",
   "metadata": {},
   "source": [
    "Assuming that ther are $m+2$ liberal liberal cards among all chosen cards and therefore there are $4-m$ fascist cards, we can find the PMF as:  $P_M (m) = P(M=m)= \\frac{\\binom{4}{m} \\binom{11}{4-m}}{{15}\\choose{4}} $. As we can easily see that at $ m=1$ the probability $P(M=m)$  is maximized. $P(M=0) = \\frac{660}{1375} = 0.483516484 \\approx 0.48 $.\n",
    "In this case 3 Fascist Cards were chosen besides 3 Liberal cards."
   ]
  },
  {
   "cell_type": "markdown",
   "id": "9e6ad4f8",
   "metadata": {},
   "source": [
    "# $B_2$ :"
   ]
  },
  {
   "cell_type": "markdown",
   "id": "54fdc9d9",
   "metadata": {},
   "source": [
    "From the table above we can deduce that $P(M=m)= \\frac{\\binom{4}{m} \\binom{11}{4-m}}{{15}\\choose{4}} $  is minimized at $m=4$\n",
    ". $P(M=4) = \\frac{1}{1375} = 0.000732600733 $.\n",
    "In this case 0 Fascist cards were chosen besides 6 liberal cards. "
   ]
  },
  {
   "cell_type": "code",
   "execution_count": 25,
   "id": "933f216a",
   "metadata": {},
   "outputs": [
    {
     "data": {
      "image/png": "[encoded data removed]",
      "text/plain": [
       "<Figure size 640x480 with 1 Axes>"
      ]
     },
     "metadata": {},
     "output_type": "display_data"
    }
   ],
   "source": [
    "import matplotlib.pyplot as plt\n",
    "\n",
    "plt.stem(m_b, distribution_b)\n",
    "plt.show()\n"
   ]
  },
  {
   "cell_type": "markdown",
   "id": "e51474da",
   "metadata": {},
   "source": [
    "# $B_3$ :"
   ]
  },
  {
   "cell_type": "markdown",
   "id": "6f939e12",
   "metadata": {},
   "source": []
  },
  {
   "cell_type": "code",
   "execution_count": 26,
   "id": "f87e314a",
   "metadata": {},
   "outputs": [],
   "source": [
    "import random\n",
    "#random.seed(400101204)\n",
    "\n",
    "list_b = [0,0,0,0,1,1,1,1,1,1,1,1,1,1,1]\n",
    "experiment_b = []\n",
    "_to_int_b = []\n",
    "temp = '00'\n",
    "for i in range(1000):\n",
    "    temp = '00'\n",
    "    for j in range(4):\n",
    "        temp = temp + str(random.choice(list_b))\n",
    "    experiment_b.append(temp)\n",
    "    _to_int_b.append(binary_to_int_convertor(temp))\n",
    "\n",
    "experiment_b = sorted(experiment_b)\n",
    "sorted_data_b = sorted(_to_int_b)\n",
    "n = len(experiment_b)\n",
    "\n",
    "\n",
    "\n",
    "test_b = sort_string_array(experiment_b)\n",
    "_list_b = []\n",
    "_list_b.append(test_b[0])\n",
    "\n",
    "for i in range(n-1):\n",
    "    if test_b[i]!=test_b[i+1]:\n",
    "        _list_b.append(test_b[i+1])\n",
    "\n",
    "counter_b = []\n",
    "for item in _list_b:\n",
    "    counter_b.append(test_a.count(item))\n",
    "\n",
    "__counter__b = [*set(counter_b)]\n",
    "__list__b = [*set(_list_b)]\n",
    "\n",
    "\n",
    "\n",
    "\n",
    "ones_b, zeros_b  = ones_zeros_in_array(__list__b)\n",
    "data_frame_b = pd.DataFrame(__counter__b ,index= __list__b, columns=['number of ocurrance'])\n",
    "\n",
    "data_frame_b['Fascist Cards'] = ones_b\n",
    "data_frame_b['Liberal Cards'] = zeros_b\n",
    "\n",
    "\n",
    "\n",
    "#data_frame_b = pd.DataFrame(__counter__b ,index= __list__b, columns=['number of ocurrance'])\n",
    "\n",
    "#ones_b, zeros_b  = ones_zeros_in_array(__list__b)\n",
    "\n",
    "#data_frame_b['Fascist Cards'] = ones_b\n",
    "#data_frame_b['Liberal Cards'] = zeros_b\n",
    "\n",
    "\n",
    "# yeki sefraharo hazf mikone digari yekharo"
   ]
  },
  {
   "cell_type": "code",
   "execution_count": 27,
   "id": "f7210280",
   "metadata": {},
   "outputs": [
    {
     "data": {
      "text/html": [
       "<div>\n",
       "<style scoped>\n",
       "    .dataframe tbody tr th:only-of-type {\n",
       "        vertical-align: middle;\n",
       "    }\n",
       "\n",
       "    .dataframe tbody tr th {\n",
       "        vertical-align: top;\n",
       "    }\n",
       "\n",
       "    .dataframe thead th {\n",
       "        text-align: right;\n",
       "    }\n",
       "</style>\n",
       "<table border=\"1\" class=\"dataframe\">\n",
       "  <thead>\n",
       "    <tr style=\"text-align: right;\">\n",
       "      <th></th>\n",
       "      <th>number of ocurrance</th>\n",
       "      <th>Fascist Cards</th>\n",
       "      <th>Liberal Cards</th>\n",
       "    </tr>\n",
       "  </thead>\n",
       "  <tbody>\n",
       "    <tr>\n",
       "      <th>000011</th>\n",
       "      <td>1</td>\n",
       "      <td>2</td>\n",
       "      <td>4</td>\n",
       "    </tr>\n",
       "    <tr>\n",
       "      <th>000111</th>\n",
       "      <td>291</td>\n",
       "      <td>3</td>\n",
       "      <td>3</td>\n",
       "    </tr>\n",
       "    <tr>\n",
       "      <th>000000</th>\n",
       "      <td>101</td>\n",
       "      <td>0</td>\n",
       "      <td>6</td>\n",
       "    </tr>\n",
       "    <tr>\n",
       "      <th>001111</th>\n",
       "      <td>244</td>\n",
       "      <td>4</td>\n",
       "      <td>2</td>\n",
       "    </tr>\n",
       "    <tr>\n",
       "      <th>000001</th>\n",
       "      <td>25</td>\n",
       "      <td>1</td>\n",
       "      <td>5</td>\n",
       "    </tr>\n",
       "  </tbody>\n",
       "</table>\n",
       "</div>"
      ],
      "text/plain": [
       "        number of ocurrance  Fascist Cards  Liberal Cards\n",
       "000011                    1              2              4\n",
       "000111                  291              3              3\n",
       "000000                  101              0              6\n",
       "001111                  244              4              2\n",
       "000001                   25              1              5"
      ]
     },
     "execution_count": 27,
     "metadata": {},
     "output_type": "execute_result"
    }
   ],
   "source": [
    "data_frame_b"
   ]
  },
  {
   "cell_type": "code",
   "execution_count": 28,
   "id": "a10ff119",
   "metadata": {},
   "outputs": [
    {
     "data": {
      "text/plain": [
       "662"
      ]
     },
     "execution_count": 28,
     "metadata": {},
     "output_type": "execute_result"
    }
   ],
   "source": [
    "1+291+101+244+25"
   ]
  },
  {
   "cell_type": "markdown",
   "id": "ee49087d",
   "metadata": {},
   "source": [
    "# $C_1$ :"
   ]
  },
  {
   "cell_type": "code",
   "execution_count": 29,
   "id": "3c042832",
   "metadata": {},
   "outputs": [
    {
     "name": "stdout",
     "output_type": "stream",
     "text": [
      ">>0::15\n",
      ">>1::180\n",
      ">>2::540\n",
      ">>3::504\n",
      ">>4::126\n",
      "\n",
      "\n",
      "index: 2\n",
      "maximum value of the product: 540\n"
     ]
    }
   ],
   "source": [
    "import math\n",
    "\n",
    "K = math.comb(15,4)\n",
    "m_c = [0,1,2,3,4]\n",
    "index_c = 0 \n",
    "Max_c = 0\n",
    "distribution_c = []\n",
    "for i in m_c:\n",
    "    s_c = math.comb(6,-i+4)*math.comb(9,i)\n",
    "    distribution_c.append(s_c/K)\n",
    "    if Max_c<s_c:\n",
    "        index_c = i\n",
    "    print(\">>\"+str(i)+\"::\"+ str(s_c))    \n",
    "    Max_c = max(Max_c,s_c)\n",
    "    \n",
    "print(\"\\n\")\n",
    "print(\"index: \" + str(index_c))\n",
    "print(\"maximum value of the product: \" + str(Max_c))"
   ]
  },
  {
   "cell_type": "markdown",
   "id": "3ece67d1",
   "metadata": {},
   "source": [
    "Assuming that ther are $m+2$ fascist liberal cards among all chosen cards and therefore there are $4-m$ liberal cards, we can find the PMF as:  $P_M (m) = P(M=m)= \\frac{\\binom{6}{-m+4} \\binom{9}{m}}{{15}\\choose{4}} $. As we can easily see that at $ m=2$ the probability $P(M=m)$  is maximized. $P(M=2\n",
    ") = \\frac{540}{1365} = 0.395604396 \\approx 0.40 $.\n",
    "In this case 4 Fascist Cards were chosen besides 2 Liberal cards."
   ]
  },
  {
   "cell_type": "markdown",
   "id": "c4e3a0f1",
   "metadata": {},
   "source": [
    "# $C_2$ :\n"
   ]
  },
  {
   "cell_type": "markdown",
   "id": "d1dc25e2",
   "metadata": {},
   "source": [
    "From the table above we can deduce that$P_M (m) = P(M=m)= \\frac{\\binom{6}{-m+4} \\binom{9}{m}}{{15}\\choose{4}} $  is minimized at $m=4$\n",
    ". $P(M=4) = \\frac{15}{1375} = 0.010989011 \\approx 0.01$.\n",
    "In this case 2 liberal cards were chosen besides 4 fascist cards. "
   ]
  },
  {
   "cell_type": "code",
   "execution_count": 30,
   "id": "0923d1f5",
   "metadata": {},
   "outputs": [
    {
     "data": {
      "image/png": "[encoded data removed]",
      "text/plain": [
       "<Figure size 640x480 with 1 Axes>"
      ]
     },
     "metadata": {},
     "output_type": "display_data"
    }
   ],
   "source": [
    "import matplotlib.pyplot as plt\n",
    "\n",
    "plt.stem(m_b, distribution_b)\n",
    "plt.show()\n"
   ]
  },
  {
   "cell_type": "markdown",
   "id": "41b1a6c6",
   "metadata": {},
   "source": [
    "# $C_3$ :"
   ]
  },
  {
   "cell_type": "code",
   "execution_count": 44,
   "id": "f361afe8",
   "metadata": {},
   "outputs": [],
   "source": [
    "import random\n",
    "random.seed(400101204)\n",
    "\n",
    "list_c = [0,0,0,0,0,0,1,1,1,1,1,1,1,1,1]\n",
    "experiment_c = []\n",
    "_to_int_c = []\n",
    "temp = '11'\n",
    "for i in range(1000):\n",
    "    temp = '11'\n",
    "    for j in range(4):\n",
    "        temp = temp + str(random.choice(list_c))\n",
    "    experiment_c.append(temp)\n",
    "    _to_int_c.append(binary_to_int_convertor(temp))\n",
    "\n",
    "experiment_c = sorted(experiment_c)\n",
    "sorted_data_c = sorted(_to_int_c)\n",
    "n = len(experiment_c)\n",
    "\n",
    "\n",
    "\n",
    "test_c = sort_string_array(experiment_c)\n",
    "_list_c = []\n",
    "_list_c.append(test_c[0])\n",
    "\n",
    "for i in range(n-1):\n",
    "    if test_c[i]!=test_c[i+1]:\n",
    "        _list_c.append(test_c[i+1])\n",
    "        \n",
    "        \n",
    "counter_c = []\n",
    "for item in _list_c:\n",
    "    counter_c.append(test_c.count(item))\n",
    "\n",
    "__counter__c = [*set(counter_c)]\n",
    "__list__c = [*set(_list_c)]\n",
    "\n",
    "data_frame_c = pd.DataFrame(__counter__c ,index= __list__c, columns=['number of ocurrance'])\n",
    "\n",
    "ones_c, zeros_c = ones_zeros_in_array(__list__c)\n",
    "\n",
    "data_frame_c['Fascist Cards'] = ones_c\n",
    "data_frame_c['Liberal Cards'] = zeros_c"
   ]
  },
  {
   "cell_type": "code",
   "execution_count": 45,
   "id": "35c03674",
   "metadata": {},
   "outputs": [
    {
     "data": {
      "text/html": [
       "<div>\n",
       "<style scoped>\n",
       "    .dataframe tbody tr th:only-of-type {\n",
       "        vertical-align: middle;\n",
       "    }\n",
       "\n",
       "    .dataframe tbody tr th {\n",
       "        vertical-align: top;\n",
       "    }\n",
       "\n",
       "    .dataframe thead th {\n",
       "        text-align: right;\n",
       "    }\n",
       "</style>\n",
       "<table border=\"1\" class=\"dataframe\">\n",
       "  <thead>\n",
       "    <tr style=\"text-align: right;\">\n",
       "      <th></th>\n",
       "      <th>number of ocurrance</th>\n",
       "      <th>Fascist Cards</th>\n",
       "      <th>Liberal Cards</th>\n",
       "    </tr>\n",
       "  </thead>\n",
       "  <tbody>\n",
       "    <tr>\n",
       "      <th>111111</th>\n",
       "      <td>321</td>\n",
       "      <td>6</td>\n",
       "      <td>0</td>\n",
       "    </tr>\n",
       "    <tr>\n",
       "      <th>001111</th>\n",
       "      <td>130</td>\n",
       "      <td>4</td>\n",
       "      <td>2</td>\n",
       "    </tr>\n",
       "    <tr>\n",
       "      <th>000011</th>\n",
       "      <td>365</td>\n",
       "      <td>2</td>\n",
       "      <td>4</td>\n",
       "    </tr>\n",
       "    <tr>\n",
       "      <th>000111</th>\n",
       "      <td>26</td>\n",
       "      <td>3</td>\n",
       "      <td>3</td>\n",
       "    </tr>\n",
       "    <tr>\n",
       "      <th>011111</th>\n",
       "      <td>158</td>\n",
       "      <td>5</td>\n",
       "      <td>1</td>\n",
       "    </tr>\n",
       "  </tbody>\n",
       "</table>\n",
       "</div>"
      ],
      "text/plain": [
       "        number of ocurrance  Fascist Cards  Liberal Cards\n",
       "111111                  321              6              0\n",
       "001111                  130              4              2\n",
       "000011                  365              2              4\n",
       "000111                   26              3              3\n",
       "011111                  158              5              1"
      ]
     },
     "execution_count": 45,
     "metadata": {},
     "output_type": "execute_result"
    }
   ],
   "source": [
    "data_frame_c"
   ]
  },
  {
   "cell_type": "code",
   "execution_count": 47,
   "id": "99297121",
   "metadata": {},
   "outputs": [
    {
     "data": {
      "text/plain": [
       "['111111', '001111', '000011', '000111', '011111']"
      ]
     },
     "execution_count": 47,
     "metadata": {},
     "output_type": "execute_result"
    }
   ],
   "source": [
    "__list__c"
   ]
  },
  {
   "cell_type": "markdown",
   "id": "51baf60f",
   "metadata": {},
   "source": [
    "# $D$ :"
   ]
  },
  {
   "cell_type": "code",
   "execution_count": 31,
   "id": "34948af0",
   "metadata": {},
   "outputs": [
    {
     "name": "stdout",
     "output_type": "stream",
     "text": [
      ">>0::210\n",
      ">>1::600\n",
      ">>2::450\n",
      ">>3::100\n",
      ">>4::5\n",
      "\n",
      "\n",
      "index: 1\n",
      "maximum value of the product: 600\n"
     ]
    }
   ],
   "source": [
    "import math\n",
    "K = math.comb(15,4)\n",
    "\n",
    "m_d = [0,1,2,3,4]\n",
    "index_d = 0 \n",
    "Max_d = 0\n",
    "distribution_d = []\n",
    "for i in m_d:\n",
    "    s_d = math.comb(5,i)*math.comb(10,4-i)\n",
    "    distribution_d.append(s_d/K)\n",
    "    if Max_d<s_d:\n",
    "        index_d = i\n",
    "    print(\">>\"+str(i)+\"::\"+ str(s_d))    \n",
    "    Max_d = max(Max_d,s_d)\n",
    "    \n",
    "print(\"\\n\")\n",
    "print(\"index: \" + str(index_d))\n",
    "print(\"maximum value of the product: \" + str(Max_d))"
   ]
  },
  {
   "cell_type": "markdown",
   "id": "e0ea939e",
   "metadata": {},
   "source": [
    "# $D_1$ :\n"
   ]
  },
  {
   "cell_type": "markdown",
   "id": "65734109",
   "metadata": {},
   "source": [
    "Assuming that ther are $m+1$ liberal cards among all chosen cards and therefore $5-m$ fascist cards of which one is certain,Thus we need to choose $4-m$ fascist cards, we can find the PMF as:  \n",
    "$P_M(m) = P(M=m)= \\frac{\\binom{5}{m} \\binom{10}{4-m}}{{15}\\choose{4}} $.\n",
    "As we can easily see that at $ m=0$ the probability $P(M=m)$  is maximized. $P(M=0) = \\frac{600}{1375} = 0.436363636 \\approx 0.44 $.\n",
    "In this case 4 Fascist Cards were chosen besides 2 Liberal cards."
   ]
  },
  {
   "cell_type": "markdown",
   "id": "e1b85867",
   "metadata": {},
   "source": [
    "# $D_2$ : "
   ]
  },
  {
   "cell_type": "markdown",
   "id": "df764507",
   "metadata": {},
   "source": [
    "From the table above we can deduce that$P_M (m) = P(M=m)= \\frac{\\binom{5}{m} \\binom{10}{4-m}}{{15}\\choose{4}} $  is minimized at $m=4$\n",
    ". $P(M=4) = \\frac{5}{1375} = 0.00366300366 \\approx 0.004$.\n",
    "In this case 5 liberal cards were chosen besides 1 fascist cards. "
   ]
  },
  {
   "cell_type": "code",
   "execution_count": 13,
   "id": "014ab877",
   "metadata": {},
   "outputs": [
    {
     "data": {
      "image/png": "[encoded data removed]",
      "text/plain": [
       "<Figure size 640x480 with 1 Axes>"
      ]
     },
     "metadata": {},
     "output_type": "display_data"
    }
   ],
   "source": [
    "import matplotlib.pyplot as plt\n",
    "\n",
    "plt.stem(m_d, distribution_d)\n",
    "plt.show()"
   ]
  },
  {
   "cell_type": "markdown",
   "id": "3580df18",
   "metadata": {},
   "source": [
    "# $D_3$ :"
   ]
  },
  {
   "cell_type": "code",
   "execution_count": 35,
   "id": "e49e9770",
   "metadata": {},
   "outputs": [],
   "source": [
    "import random\n",
    "random.seed(400101204)\n",
    "\n",
    "list_d = [0,0,0,0,0,0,1,1,1,1,1,1,1,1,1]\n",
    "experiment_d = []\n",
    "_to_int_d = []\n",
    "temp = '01'\n",
    "for i in range(1000):\n",
    "    temp = '01'\n",
    "    for j in range(4):\n",
    "        temp = temp + str(random.choice(list_d))\n",
    "    experiment_d.append(temp)\n",
    "    _to_int_d.append(binary_to_int_convertor(temp))\n",
    "\n",
    "experiment_d = sorted(experiment_d)\n",
    "sorted_data_d = sorted(_to_int_d)\n",
    "n = len(experiment_d)\n",
    "\n",
    "\n",
    "\n",
    "test_d = sort_string_array(experiment_d)\n",
    "_list_d = []\n",
    "_list_d.append(test_d[0])\n",
    "\n",
    "-1for i in range(n-1):\n",
    "    if test_d[i]!=test_d[i+1]:\n",
    "        _list_d.append(test_d[i+1])\n",
    "        \n",
    "        \n",
    "counter_d = []\n",
    "for item in _list_d:\n",
    "    counter_d.append(test_d.count(item))\n",
    "\n",
    "__counter__d = [*set(counter_d)]\n",
    "__list__d = [*set(_list_d)]\n",
    "\n",
    "data_frame_d = pd.DataFrame(__counter__d ,index= __list__d, columns=['number of ocurrance'])\n",
    "\n",
    "ones_d, zeros_d = ones_zeros_in_array(__list__d)\n",
    "\n",
    "data_frame_d['Fascist Cards'] = ones_d\n",
    "data_frame_d['Liberal Cards'] = zeros_d"
   ]
  },
  {
   "cell_type": "code",
   "execution_count": 36,
   "id": "57ca7cc8",
   "metadata": {},
   "outputs": [
    {
     "data": {
      "text/html": [
       "<div>\n",
       "<style scoped>\n",
       "    .dataframe tbody tr th:only-of-type {\n",
       "        vertical-align: middle;\n",
       "    }\n",
       "\n",
       "    .dataframe tbody tr th {\n",
       "        vertical-align: top;\n",
       "    }\n",
       "\n",
       "    .dataframe thead th {\n",
       "        text-align: right;\n",
       "    }\n",
       "</style>\n",
       "<table border=\"1\" class=\"dataframe\">\n",
       "  <thead>\n",
       "    <tr style=\"text-align: right;\">\n",
       "      <th></th>\n",
       "      <th>number of ocurrance</th>\n",
       "      <th>Fascist Cards</th>\n",
       "      <th>Liberal Cards</th>\n",
       "    </tr>\n",
       "  </thead>\n",
       "  <tbody>\n",
       "    <tr>\n",
       "      <th>011111</th>\n",
       "      <td>321</td>\n",
       "      <td>5</td>\n",
       "      <td>1</td>\n",
       "    </tr>\n",
       "    <tr>\n",
       "      <th>000011</th>\n",
       "      <td>130</td>\n",
       "      <td>2</td>\n",
       "      <td>4</td>\n",
       "    </tr>\n",
       "    <tr>\n",
       "      <th>000111</th>\n",
       "      <td>365</td>\n",
       "      <td>3</td>\n",
       "      <td>3</td>\n",
       "    </tr>\n",
       "    <tr>\n",
       "      <th>001111</th>\n",
       "      <td>26</td>\n",
       "      <td>4</td>\n",
       "      <td>2</td>\n",
       "    </tr>\n",
       "    <tr>\n",
       "      <th>000001</th>\n",
       "      <td>158</td>\n",
       "      <td>1</td>\n",
       "      <td>5</td>\n",
       "    </tr>\n",
       "  </tbody>\n",
       "</table>\n",
       "</div>"
      ],
      "text/plain": [
       "        number of ocurrance  Fascist Cards  Liberal Cards\n",
       "011111                  321              5              1\n",
       "000011                  130              2              4\n",
       "000111                  365              3              3\n",
       "001111                   26              4              2\n",
       "000001                  158              1              5"
      ]
     },
     "execution_count": 36,
     "metadata": {},
     "output_type": "execute_result"
    }
   ],
   "source": [
    "data_frame_d"
   ]
  },
  {
   "cell_type": "markdown",
   "id": "990dc150",
   "metadata": {},
   "source": [
    "# $E$ :"
   ]
  },
  {
   "cell_type": "markdown",
   "id": "d9a22583",
   "metadata": {},
   "source": [
    "# $E_1$,$E_3$ :"
   ]
  },
  {
   "cell_type": "code",
   "execution_count": 68,
   "id": "6eba78a5",
   "metadata": {},
   "outputs": [
    {
     "name": "stdout",
     "output_type": "stream",
     "text": [
      "0::165\n",
      "1::330\n",
      "2::165\n",
      "3::20\n"
     ]
    }
   ],
   "source": [
    "import math\n",
    "K = 0\n",
    "\n",
    "k_e = [0,1,2,3]\n",
    "distribution_e = []\n",
    "for i in k_e:\n",
    "    K= K + math.comb(6,i)*math.comb(11,3-i)\n",
    "    \n",
    "for j in k_e:\n",
    "    s_e = math.comb(6,j)*math.comb(11,3-j)\n",
    "    print(str(j)+\"::\"+str(s_e))\n",
    "    distribution_e.append(s_e/K)\n",
    "    \n"
   ]
  },
  {
   "cell_type": "code",
   "execution_count": 47,
   "id": "19d5017f",
   "metadata": {},
   "outputs": [
    {
     "data": {
      "image/png": "[encoded data removed]",
      "text/plain": [
       "<Figure size 640x480 with 1 Axes>"
      ]
     },
     "metadata": {},
     "output_type": "display_data"
    }
   ],
   "source": [
    "import matplotlib.pyplot as plt\n",
    "\n",
    "plt.stem(k_e, distribution_e)\n",
    "plt.show()"
   ]
  },
  {
   "cell_type": "markdown",
   "id": "e86caa11",
   "metadata": {},
   "source": [
    "Firstly, we will compute the probability of when a Liberal and a fascist were chosen besides another unknown Liberal/Fascist \n",
    "$P(A) = P( L=2, F=1) = \\frac{\\binom{6}{2} \\binom{11}{1}}{\\sum_{k=0}^{3} \\binom{6}{k} \\binom{11}{3-k}} = \\frac{165}{680} $\n",
    "but \n",
    "$P(B) = P( F=2,L=1) = \\frac{\\binom{6}{1} \\binom{11}{2}}{\\sum_{k=0}^{3} \\binom{6}{k} \\binom{11}{3-k}} = \\frac{330}{680}$\n",
    "\n",
    "let $X= A+B$, since A, B are disjoint: \n",
    "$P(X) = \\frac{165}{680} + \\frac{330}{680}= \\frac{485}{680}$\n",
    "\n",
    "Now we will compute the conditional probability: \n",
    "$P(A|X) = \\frac{\\frac{165}{680} }{\\frac{485}{680} } = \\frac{165}{485} = 0.3402061855670103 \\approx 0.34$\n",
    "\n",
    "Since the probability of Liberal card to be the discarded card is less than half(0.5), we can deduce that The president was a Liberal, since he mayhaps did not discard the Liberal card.\n"
   ]
  },
  {
   "cell_type": "code",
   "execution_count": 66,
   "id": "1fad37bf",
   "metadata": {},
   "outputs": [],
   "source": [
    "import random\n",
    "random.seed(400101204)\n",
    "\n",
    "list_e = [0,0,0,0,0,0,1,1,1,1,1,1,1,1,1]\n",
    "experiment_e = []\n",
    "_to_int_e = []\n",
    "temp = ''\n",
    "for i in range(1000):\n",
    "    temp = ''\n",
    "    for j in range(3):\n",
    "        temp = temp + str(random.choice(list_e))\n",
    "    \n",
    "    experiment_e.append(temp)\n",
    "    _to_int_e.append(binary_to_int_convertor(temp))\n",
    "\n",
    "experiment_e = sorted(experiment_e)\n",
    "sorted_data_e = sorted(_to_int_e)\n",
    "n = len(experiment_e)\n",
    "\n",
    "\n",
    "\n",
    "test_e = sort_string_array(experiment_e)\n",
    "_list_e = []\n",
    "_list_e.append(test_e[0])\n",
    "\n",
    "for i in range(n-1):\n",
    "    if test_e[i]!=test_e[i+1]:\n",
    "        _list_e.append(test_e[i+1])\n",
    "        \n",
    "        \n",
    "counter_e = []\n",
    "for item in _list_e:\n",
    "    counter_e.append(test_e.count(item))\n",
    "\n",
    "counter_e\n",
    "__counter__e = [*set(counter_e)]\n",
    "__list__e = [*set(_list_e)]\n",
    "\n",
    "data_frame_e = pd.DataFrame(__counter__e ,index= __list__e, columns=['number of ocurrance'])\n",
    "ones_e, zeros_e = ones_zeros_in_array(__list__e)\n",
    "\n",
    "data_frame_e['Fascist Cards'] = ones_e\n",
    "data_frame_e['Liberal Cards'] = zeros_e\n"
   ]
  },
  {
   "cell_type": "code",
   "execution_count": 67,
   "id": "80682b16",
   "metadata": {},
   "outputs": [
    {
     "data": {
      "text/html": [
       "<div>\n",
       "<style scoped>\n",
       "    .dataframe tbody tr th:only-of-type {\n",
       "        vertical-align: middle;\n",
       "    }\n",
       "\n",
       "    .dataframe tbody tr th {\n",
       "        vertical-align: top;\n",
       "    }\n",
       "\n",
       "    .dataframe thead th {\n",
       "        text-align: right;\n",
       "    }\n",
       "</style>\n",
       "<table border=\"1\" class=\"dataframe\">\n",
       "  <thead>\n",
       "    <tr style=\"text-align: right;\">\n",
       "      <th></th>\n",
       "      <th>number of ocurrance</th>\n",
       "      <th>Fascist Cards</th>\n",
       "      <th>Liberal Cards</th>\n",
       "    </tr>\n",
       "  </thead>\n",
       "  <tbody>\n",
       "    <tr>\n",
       "      <th>111</th>\n",
       "      <td>67</td>\n",
       "      <td>3</td>\n",
       "      <td>3</td>\n",
       "    </tr>\n",
       "    <tr>\n",
       "      <th>011</th>\n",
       "      <td>292</td>\n",
       "      <td>2</td>\n",
       "      <td>4</td>\n",
       "    </tr>\n",
       "    <tr>\n",
       "      <th>000</th>\n",
       "      <td>419</td>\n",
       "      <td>0</td>\n",
       "      <td>6</td>\n",
       "    </tr>\n",
       "    <tr>\n",
       "      <th>001</th>\n",
       "      <td>222</td>\n",
       "      <td>1</td>\n",
       "      <td>5</td>\n",
       "    </tr>\n",
       "  </tbody>\n",
       "</table>\n",
       "</div>"
      ],
      "text/plain": [
       "     number of ocurrance  Fascist Cards  Liberal Cards\n",
       "111                   67              3              3\n",
       "011                  292              2              4\n",
       "000                  419              0              6\n",
       "001                  222              1              5"
      ]
     },
     "execution_count": 67,
     "metadata": {},
     "output_type": "execute_result"
    }
   ],
   "source": [
    "data_frame_e"
   ]
  },
  {
   "cell_type": "markdown",
   "id": "f43bd339",
   "metadata": {},
   "source": [
    "# $E_2$, $E_3$ :"
   ]
  },
  {
   "cell_type": "markdown",
   "id": "0c0063cf",
   "metadata": {},
   "source": [
    "A => the first discarded card is Liberal\n",
    "\n",
    "B =>the second discarded card is fascist\n",
    "Liberal -- Facist -- Liberal/Fascist\n",
    "\n",
    "\n",
    "AB => Liberal Fascist Liberal \n",
    "\n",
    "case A:\n",
    "4 liberals => $\\binom{4}{2} \\binom{9}{0} = 6$ ,\n",
    "3 liberals => $\\binom{4}{1} \\binom{9}{1} = 36$,\n",
    "2 liberals => $\\binom{4}{0} \\binom{9}{2} = 36$,\n",
    "sum = 78\n",
    "\n",
    "\n",
    "case 2:\n",
    "3 liberals => $\\binom{5}{2} \\binom{8}{0} = 10$,\n",
    "2 liberals => $\\binom{5}{1} \\binom{8}{1} = 40$,\n",
    "1 liberals => $\\binom{5}{0} \\binom{8}{2} = 28$,\n",
    "sum = 78 =>\n",
    "$P(A|B) = \\frac{P(AB)}{P(B)} = \\frac{1}{2} = 0.5$ \n",
    "\n",
    "In this case as you see the Probability of A and B are equal,hence we can not decoide whether or not the president is fascist.\n",
    "\n"
   ]
  },
  {
   "cell_type": "markdown",
   "id": "7430bbfd",
   "metadata": {},
   "source": [
    "# $F$ :\n"
   ]
  },
  {
   "cell_type": "markdown",
   "id": "e9865b42",
   "metadata": {},
   "source": [
    "# $F_1$ :"
   ]
  },
  {
   "cell_type": "markdown",
   "id": "419ed89f",
   "metadata": {},
   "source": [
    "In this case we assume that we are the fascist, and we will consider the first scenario:\n",
    "$f_1$ => 3 fascist cards are chosen\n",
    "$P(f_1) = \\frac{ \\binom{11}{3} }{ \\binom{17}{3} } = \\frac{165}{680} = 0.2426470588235294 \\approx 0.24$"
   ]
  },
  {
   "cell_type": "markdown",
   "id": "c0739843",
   "metadata": {},
   "source": [
    "# $F_2$ :\n"
   ]
  },
  {
   "cell_type": "markdown",
   "id": "16a725ae",
   "metadata": {},
   "source": [
    "$f_2$ => at least one liberal card is chosen\n",
    "$P(f_2) = P(L \\geq 1) = 1- P(L=0) = 1- \\frac{ \\binom{8}{3} }{ \\binom{14}{3} } = 0.85$\n"
   ]
  },
  {
   "cell_type": "markdown",
   "id": "08048326",
   "metadata": {},
   "source": [
    "# $F_3$ :\n"
   ]
  },
  {
   "cell_type": "markdown",
   "id": "b51b0b2e",
   "metadata": {},
   "source": [
    "from now on we will consider the second scenario:\n",
    "$f_3$ => 2 liberals and 1 fascist\n",
    "$P(f_3) = \\frac{\\binom{6}{2} \\binom{11}{1}}{\\binom{17}{3} }= 0.2426 $"
   ]
  },
  {
   "cell_type": "markdown",
   "id": "2f1a0cec",
   "metadata": {},
   "source": [
    "# $F_4$ :"
   ]
  },
  {
   "cell_type": "markdown",
   "id": "452c3536",
   "metadata": {},
   "source": [
    "$f_4$ => at least one liberal is chosen \n",
    "$P(f_4) = P(L \\geq 1) = 1 - P(L=0) = 1 - \\frac{\\binom{10}{3} }{\\binom{14}{3} } = 0.67$"
   ]
  },
  {
   "cell_type": "markdown",
   "id": "4b8c6adf",
   "metadata": {},
   "source": [
    "# $F_5$ :"
   ]
  },
  {
   "cell_type": "markdown",
   "id": "b2ad4d8a",
   "metadata": {},
   "source": [
    "$f_5$ => at least 2 fascist cards are chosen \n",
    "$ P(f_5) = P(F \\geq 2) = \\frac{\\binom{11}{3} \\binom{6}{0}}{{17}\\choose{3}}+\\frac{\\binom{11}{2} \\binom{6}{1}}{{17}\\choose{3}} \\approx .72$"
   ]
  },
  {
   "cell_type": "markdown",
   "id": "6e8d94a3",
   "metadata": {},
   "source": [
    "# $F_6$ :\n",
    "\n"
   ]
  },
  {
   "cell_type": "markdown",
   "id": "b30cb50a",
   "metadata": {},
   "source": [
    "$f_6$ => $P(f_6 ) = 1-  \\frac{\\binom{8}{3} \\binom{6}{0}}{{14}\\choose{3}}+\\frac{\\binom{9}{3} \\binom{5}{0}}{{14}\\choose{3}} \\approx 0.62$"
   ]
  },
  {
   "cell_type": "markdown",
   "id": "9d14a34d",
   "metadata": {},
   "source": [
    "# $F_7$ :\n"
   ]
  },
  {
   "cell_type": "markdown",
   "id": "61880e61",
   "metadata": {},
   "source": [
    "declaring the first scenerio is more believable than the second scenario since that it is more risky and the possibility of being detected is much more , because the chanceller can easily detect us at second turn. Furthermore we can justify the ocurrance of Fascist card by saying that 3 Fascist cards were in hand at the second turn."
   ]
  }
 ],
 "metadata": {
  "kernelspec": {
   "display_name": "Python 3 (ipykernel)",
   "language": "python",
   "name": "python3"
  },
  "language_info": {
   "codemirror_mode": {
    "name": "ipython",
    "version": 3
   },
   "file_extension": ".py",
   "mimetype": "text/x-python",
   "name": "python",
   "nbconvert_exporter": "python",
   "pygments_lexer": "ipython3",
   "version": "3.9.4"
  }
 },
 "nbformat": 4,
 "nbformat_minor": 5
}
