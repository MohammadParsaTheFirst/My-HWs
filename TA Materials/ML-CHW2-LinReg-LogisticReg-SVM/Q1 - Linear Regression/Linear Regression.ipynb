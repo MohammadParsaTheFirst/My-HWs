{
  "nbformat": 4,
  "nbformat_minor": 0,
  "metadata": {
    "colab": {
      "provenance": []
    },
    "kernelspec": {
      "name": "python3",
      "display_name": "Python 3"
    },
    "language_info": {
      "name": "python"
    }
  },
  "cells": [
    {
      "cell_type": "markdown",
      "source": [
        "<h1 align=\"center\">An Introduction to Machine Learning - 25737</h1>\n",
        "<h4 align=\"center\">Dr. Yassaee</h4>\n",
        "<h4 align=\"center\">Sharif University of Technology, Autumn 2024</h4>\n",
        "\n",
        "**Student Name**:\n",
        "\n",
        "**Student ID**:\n",
        "\n",
        "---\n"
      ],
      "metadata": {
        "id": "VsIGfdR9lq8_"
      }
    },
    {
      "cell_type": "markdown",
      "source": [
        "# Understanding Linear Regression\n",
        "\n",
        "Linear regression is one of the simplest and most fundamental techniques in statistics and machine learning. It involves modeling the relationship between a dependent variable (target $y$) and one or more independent variables (predictors $x_1, .., x_n$) by fitting a linear equation to the observed data. The goal of linear regression is to find the line or the hyperplane that best predicts the target variable from the predictors. This method assumes that there is a linear relationship between the variables, which means that changes in the predictor variables will lead to proportional changes in the target variable.\n",
        "\n",
        "# Importing Libraries:"
      ],
      "metadata": {
        "id": "VHfjPR_FBYFT"
      }
    },
    {
      "cell_type": "code",
      "source": [
        "import numpy as np\n",
        "import matplotlib.pyplot as plt\n",
        "import sklearn\n",
        "import pandas as pd\n",
        "from sklearn.model_selection import train_test_split\n",
        "from sklearn.linear_model import LinearRegression\n",
        "from sklearn.metrics import mean_squared_error, r2_score\n",
        "from sklearn.linear_model import Ridge"
      ],
      "metadata": {
        "id": "jBnxFv2EBTJa"
      },
      "execution_count": 1,
      "outputs": []
    },
    {
      "cell_type": "markdown",
      "source": [
        "Furthermore, note that Running the model on your GPU has BONUS POINTS. If you would like to do so, you can run the cell below. It will seach for CUDA and if it finds it, it will assign the device to cuda, otherwise it will run on your CPU."
      ],
      "metadata": {
        "id": "e07YbrjynTt4"
      }
    },
    {
      "cell_type": "code",
      "source": [
        "import torch\n",
        "\n",
        "if torch.cuda.is_available():\n",
        "    device = torch.device('cuda')\n",
        "    print(\"CUDA is available. Using GPU.\")\n",
        "else:\n",
        "    device = torch.device('cpu')\n",
        "    print(\"CUDA is not available. Using CPU.\")"
      ],
      "metadata": {
        "id": "vXbRJkrLnw5-"
      },
      "execution_count": null,
      "outputs": []
    },
    {
      "cell_type": "markdown",
      "source": [
        "f you are using Colab, please note that you must upload the dataset to your Google Drive associated with the email registered with Colab. After completing the authentication process, you can mount your Drive and then import the dataset."
      ],
      "metadata": {
        "id": "U7M9EzdxnxcV"
      }
    },
    {
      "cell_type": "code",
      "source": [
        "from google.colab import drive\n",
        "drive.mount('/content/drive')"
      ],
      "metadata": {
        "id": "RuhZMg1EofLv"
      },
      "execution_count": null,
      "outputs": []
    },
    {
      "cell_type": "markdown",
      "source": [
        "# Importing the dataset & some cleanning:\n",
        "\n",
        "To start, familiarize yourself with the dataset after importing it. Examine every detail of the data, including the number of rows and columns, and calculate the mean and standard deviation for each column. We will use the \"CO2\" dataset for the purpose of linear regression. You can locate this file by the name `global_co2.csv` Since we don't have data from before 1960, make sure to filter out any entries from before this year."
      ],
      "metadata": {
        "id": "pVuIe9mwCNx2"
      }
    },
    {
      "cell_type": "code",
      "source": [
        "# TODO: Read the dataset using pandas and save it into a dataframe\n",
        "file_path = ''\n",
        "df = pd.read_csv(file_path, names=['X','Y'])\n",
        "# TODO: Describe the dataset(dataframe)\n",
        "df.describe()\n",
        "# TODO: Discard the data before 1960\n",
        "climate_change_df = df[df['Year'] >= 1960]"
      ],
      "metadata": {
        "id": "jCBQJe-KBTMM"
      },
      "execution_count": null,
      "outputs": []
    },
    {
      "cell_type": "markdown",
      "source": [
        "\n",
        "\n",
        "Now, we are going to perform a 3D linear regression using two features:\n",
        "$x_1$(:`Year`), $x_2$(:`Temperature`). Our goal is to fit a linear dependency for $y$(: `CO2`). From our dataframe, drop the other columns and store the data of these columns into parameters `x1`, `x2`, and `y`.\n"
      ],
      "metadata": {
        "id": "pPv4lYBuGEw7"
      }
    },
    {
      "cell_type": "code",
      "source": [
        "# TODO: Store the values for each column into their respective parameter\n",
        "x1 = ...\n",
        "x2 = ...\n",
        "y = ..."
      ],
      "metadata": {
        "id": "mwiIOWIPBTPG"
      },
      "execution_count": null,
      "outputs": []
    },
    {
      "cell_type": "markdown",
      "source": [
        "# Visualizing the data:\n",
        "\n",
        "Now, using the `matplotlib` library, visualize the dataset. The visualization should show `CO2`  along the vertical axis, with `Year` and `Temperature` on the surface. Determine whether a linear model fits the data. Is it appropriate to use a linear model in this case? Explain your reasoning."
      ],
      "metadata": {
        "id": "6x7Xu0m5DopZ"
      }
    },
    {
      "cell_type": "code",
      "source": [
        "import matplotlib.pyplot as plt\n",
        "\n",
        "plt.figure()\n",
        "# TODO: Plot the CO2 Emission with respect to Year & Tempreture\n",
        "\n",
        "plt.show()"
      ],
      "metadata": {
        "id": "6n6gG5zKDoRW"
      },
      "execution_count": null,
      "outputs": []
    },
    {
      "cell_type": "markdown",
      "source": [
        "Futhermore, investigate the relation between $y$-$x_1$ and $y$-$x_2$ respectivly by plotting them into a 2d surface."
      ],
      "metadata": {
        "id": "sB_FI-pcLuDF"
      }
    },
    {
      "cell_type": "code",
      "source": [
        "# TODO: Plot the relationship between 'Year' and 'Temperature'\n",
        "\n",
        "# TODO: Plot the relationship between 'Year' and 'CO2 Emissions'\n"
      ],
      "metadata": {
        "id": "sXbQKRLuL-_m"
      },
      "execution_count": null,
      "outputs": []
    },
    {
      "cell_type": "markdown",
      "source": [
        "# Training the data - Definig the model\n",
        "\n",
        "Now, split the data into training and testing sets. The test data will be used for evaluating the model's performance, while the training data will be used for training the model and extracting the model's weights. Next, define a linear regression model and train it using the training data. After the training is completed, print the weights of the model."
      ],
      "metadata": {
        "id": "ozq6X4WpIMHY"
      }
    },
    {
      "cell_type": "code",
      "source": [
        "# TODO: split the data into test and train\n",
        "X = ...\n",
        "Y = ...\n",
        "X_train, X_test, y_train, y_test = ...\n",
        "\n",
        "# TODO: Define a linear regression model and then feed it with train data\n",
        "reg = LinearRegression()\n",
        "reg.fit(X_train, y_train)\n",
        "\n",
        "# TODO: print the score of the model.\n"
      ],
      "metadata": {
        "id": "MVt4YFTABTRv"
      },
      "execution_count": null,
      "outputs": []
    },
    {
      "cell_type": "markdown",
      "source": [
        "# Evaluating the trained model\n",
        "\n",
        "Now evaluate your model using MMSE, $R^2$ criterions, how well is your model trained?"
      ],
      "metadata": {
        "id": "mL35mtIBM-ua"
      }
    },
    {
      "cell_type": "code",
      "source": [
        "# TODO: Calculate the Mean Squared Error (MMSE)\n"
      ],
      "metadata": {
        "id": "K4UIjrJBBTUN"
      },
      "execution_count": null,
      "outputs": []
    },
    {
      "cell_type": "markdown",
      "source": [
        "n this section, we will repeat the data plotting, but this time we will also include the predictions of our model. This will allow us to investigate whether the model has successfully fitted the data."
      ],
      "metadata": {
        "id": "nWupfKInNnDR"
      }
    },
    {
      "cell_type": "code",
      "source": [
        "# TODO: Define the line by the weights of the model\n",
        "\n",
        "# TODO: plot the hyperplane and the data\n"
      ],
      "metadata": {
        "id": "AVNRV-96BTW1"
      },
      "execution_count": null,
      "outputs": []
    },
    {
      "cell_type": "code",
      "source": [
        "# TODO: Repeat the 2d plotting as well (y-x1) and (y-x2)\n"
      ],
      "metadata": {
        "id": "BwtxXCBXOIkQ"
      },
      "execution_count": null,
      "outputs": []
    },
    {
      "cell_type": "markdown",
      "source": [
        "# Implementing your own Linear Regression model"
      ],
      "metadata": {
        "id": "F8uJ39v5OnrC"
      }
    },
    {
      "cell_type": "markdown",
      "source": [
        "Complete the following two functions. For `gradient_descent()`, you should determine the appropriate method for updating\n",
        "$\\theta$\n",
        " by computing the gradient and applying gradient descent. Additionally, ensure the `compute_cost()` function is correctly implemented."
      ],
      "metadata": {
        "id": "oBCd57Ddrgz6"
      }
    },
    {
      "cell_type": "code",
      "source": [
        "import numpy as np\n",
        "import matplotlib.pyplot as plt\n",
        "\n",
        "np.random.seed(42)\n",
        "X = 2 * np.random.rand(100, 1)\n",
        "y = 4 + 3 * X + np.random.randn(100, 1)\n",
        "X_b = np.c_[np.ones((100, 1)), X]\n",
        "\n",
        "def compute_cost(theta, X, y):\n",
        "    # TODO:\n",
        "    pass\n",
        "\n",
        "def gradient_descent(X, y, theta, learning_rate=0.01, n_iterations=1000):\n",
        "    m = len(y)\n",
        "    cost_history = np.zeros(n_iterations)\n",
        "\n",
        "    for i in range(n_iterations):\n",
        "        # TODO: compute the gradient and update the theta\n",
        "        gradients = ...\n",
        "        theta = ...\n",
        "        cost_history[i] = compute_cost(theta, X, y)\n",
        "\n",
        "    return theta, cost_history\n",
        "\n",
        "\n",
        "theta = np.random.randn(2, 1)\n",
        "theta_best, cost_history = gradient_descent(X_b, y, theta)\n",
        "print(f\"Optimal parameters (theta): {theta_best}\")\n",
        "X_new = np.array([[0], [2]])\n",
        "X_new_b = np.c_[np.ones((2, 1)), X_new]\n",
        "y_predict = X_new_b.dot(theta_best)\n",
        "\n",
        "# Plot the results\n",
        "plt.figure(figsize=(10, 5))\n",
        "plt.plot(X_new, y_predict, \"r-\", linewidth=2, label=\"Prediction\")\n",
        "plt.plot(X, y, \"b.\", label=\"Data\")\n",
        "plt.xlabel(\"X\")\n",
        "plt.ylabel(\"y\")\n",
        "plt.title(\"Linear Regression Fit\")\n",
        "plt.legend()\n",
        "plt.grid(True)\n",
        "plt.show()\n",
        "\n",
        "# Plot the cost function history\n",
        "plt.figure(figsize=(10, 5))\n",
        "plt.plot(range(len(cost_history)), cost_history, \"b-\", linewidth=2)\n",
        "plt.xlabel(\"Iteration\")\n",
        "plt.ylabel(\"Cost\")\n",
        "plt.title(\"Cost Function History\")\n",
        "plt.grid(True)\n",
        "plt.show()\n"
      ],
      "metadata": {
        "colab": {
          "base_uri": "https://localhost:8080/",
          "height": 993
        },
        "id": "Xqj5RLfNOtvE",
        "outputId": "047a9c0c-ff67-4a55-977d-8fa6a85b7aa3"
      },
      "execution_count": null,
      "outputs": [
        {
          "output_type": "stream",
          "name": "stdout",
          "text": [
            "Optimal parameters (theta): [[3.90261498]\n",
            " [3.04601728]]\n"
          ]
        },
        {
          "output_type": "display_data",
          "data": {
            "text/plain": [
              "<Figure size 1000x500 with 1 Axes>"
            ],
            "image/png": "[encoded data removed]"
          },
          "metadata": {}
        },
        {
          "output_type": "display_data",
          "data": {
            "text/plain": [
              "<Figure size 1000x500 with 1 Axes>"
            ],
            "image/png": "[encoded data removed]"
          },
          "metadata": {}
        }
      ]
    },
    {
      "cell_type": "markdown",
      "source": [
        "# Ridge Resgression:\n",
        "Ridge regression, also known as Tikhonov regularization, is a method used to address multicollinearity in linear regression models. It introduces a penalty term to the regression objective, effectively shrinking the coefficients towards zero. This penalty term acts as a prior on the weights, encouraging the model to favor simpler solutions with smaller coefficients. By doing so, ridge regression reduces the variance of the model, leading to more stable and generalizable predictions.\n",
        "\n",
        "Mathematically, ridge regression can be formulated as follows:\n",
        "\n",
        "**Prior**:\n",
        "\n",
        "\n",
        "$ \\theta \\sim \\mathcal{N}(0, \\sigma^2I) $\n",
        "\n",
        "\n",
        "\n",
        "**Optimization Objective**:\n",
        "\n",
        "\n",
        "$ \\min_{\\theta} \\left( \\sum_{i=1}^{n} \\left(y_i - \\theta^T x_i \\right)^2 + \\lambda \\|\\theta\\|_2^2 \\right) $\n",
        "\n",
        "\n",
        "\n",
        "Where:\n",
        "- $ \\theta $ is the vector of coefficients.\n",
        "- $ y_i $ is the actual value.\n",
        "- $ x_i $ is the vector of input features.\n",
        "- $ \\lambda $ is the regularization parameter.\n",
        "- $ \\|\\theta\\|_2^2 $ is the L2 norm of the coefficients (sum of the squared coefficients).\n",
        "\n",
        "The regularization term $( \\lambda || \\theta||_2^2 $) forces the model to keep the coefficients small, pushing the solution towards the origin (Why??). This helps in situations where multicollinearity (high correlation between predictors) or overfitting (model performing well on training data but poorly on unseen data) is a concern.\n",
        "\n",
        "\n",
        "\n"
      ],
      "metadata": {
        "id": "ud3bGq-qu3gU"
      }
    },
    {
      "cell_type": "markdown",
      "source": [
        "Now explain **When to Use Ridge Regression**:  -- your--answer--\n",
        "\n",
        "\n",
        "\n"
      ],
      "metadata": {
        "id": "l71PSdz9vUhg"
      }
    },
    {
      "cell_type": "markdown",
      "source": [
        "Also explain **the effect of the regularization parameter**: --your--answer--\n"
      ],
      "metadata": {
        "id": "S9n3i-Pjv2vT"
      }
    },
    {
      "cell_type": "markdown",
      "source": [
        "Now This partt is BONUS!\n",
        "Apply Ridge Regrssion on our dataset above (for simplicity you can solve this for a one-dimonsional $x$, keep$x_1$ for instance and discard the other parameter $x_2$). Then change $\\lambda$ and plot the train and test error with respect to $\\lambda$"
      ],
      "metadata": {
        "id": "GTTPmGJ8wGuN"
      }
    },
    {
      "cell_type": "code",
      "source": [
        "# TODO: Apply Ridge Regression and vary lambda\n",
        "\n",
        " # Range of lambda values -- you can\n",
        "lambdas = np.logspace( .... )\n",
        "train_errors = []\n",
        "test_errors = []\n",
        "\n",
        "for l in lambdas:\n",
        "    ridge_reg = ....\n",
        "    ridge_reg.fit() ...\n",
        "\n",
        "    y_train_pred = .....\n",
        "    y_test_pred = ......\n",
        "\n",
        "# TODO: Plot train and test errors with respect to lambda\n"
      ],
      "metadata": {
        "id": "ppt8jUuJvP5t"
      },
      "execution_count": null,
      "outputs": []
    }
  ]
}